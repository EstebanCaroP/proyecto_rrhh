{
  "nbformat": 4,
  "nbformat_minor": 0,
  "metadata": {
    "colab": {
      "provenance": [],
      "authorship_tag": "ABX9TyO1nwORr1MYevTf+Z9zJdJI",
      "include_colab_link": true
    },
    "kernelspec": {
      "name": "python3",
      "display_name": "Python 3"
    },
    "language_info": {
      "name": "python"
    }
  },
  "cells": [
    {
      "cell_type": "markdown",
      "metadata": {
        "id": "view-in-github",
        "colab_type": "text"
      },
      "source": [
        "<a href=\"https://colab.research.google.com/github/EstebanCaroP/proyecto_rrhh/blob/main/01_Funciones.ipynb\" target=\"_parent\"><img src=\"https://colab.research.google.com/assets/colab-badge.svg\" alt=\"Open In Colab\"/></a>"
      ]
    },
    {
      "cell_type": "markdown",
      "source": [
        "#Funciones"
      ],
      "metadata": {
        "id": "8xPEaEBVF77i"
      }
    },
    {
      "cell_type": "markdown",
      "source": [
        "En este apartado estarán las funciones a utilizar durante el desarrollo del proyecto de recursos humanos"
      ],
      "metadata": {
        "id": "VyTaPopdFUb9"
      }
    },
    {
      "cell_type": "code",
      "execution_count": null,
      "metadata": {
        "id": "_8-xMu8pFNeQ"
      },
      "outputs": [],
      "source": []
    }
  ]
}